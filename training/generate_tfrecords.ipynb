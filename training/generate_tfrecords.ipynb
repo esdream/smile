{
 "cells": [
  {
   "cell_type": "markdown",
   "metadata": {},
   "source": [
    "## TFRecords\n",
    "TFRecords其实是一种二进制文件，虽然它不如其他格式好理解，但是它能更好的利用内存，更方便复制和移动，并且不需要单独的标签文件。\n",
    "\n",
    "TFRecords文件包含了`tf.train.Example`协议内存块(protocol buffer)(协议内存块包含了字段 Features)。我们可以写一段代码获取你的数据，将数据填入到Example协议内存块(protocol buffer)，将协议内存块序列化为一个字符串，并且通过`tf.python_io.TFRecordWriter`写入到TFRecords文件。\n",
    "\n",
    "从TFRecords文件中读取数据， 可以使用`tf.TFRecordReader`的`tf.parse_single_example`解析器。这个操作可以将Example协议内存块(protocol buffer)解析为张量。"
   ]
  },
  {
   "cell_type": "code",
   "execution_count": 1,
   "metadata": {
    "collapsed": true
   },
   "outputs": [],
   "source": [
    "import os\n",
    "import sys\n",
    "from PIL import Image\n",
    "import tensorflow as tf\n",
    "import numpy as np"
   ]
  },
  {
   "cell_type": "markdown",
   "metadata": {},
   "source": [
    "TFRecords中存储的是**tf.train.Example**。一个**tf.train.Example**中包含一个**tf.train.Features**，**tf.train.Features**里包含**feature**参数。最后，feature参数是一个字典，包含多个键（字符串）与值（**tf.train.Feature**）。**tf.train.Feature**对象里包含有一个FloatList,或ByteList，或Int64List。"
   ]
  },
  {
   "cell_type": "code",
   "execution_count": 17,
   "metadata": {},
   "outputs": [
    {
     "name": "stdout",
     "output_type": "stream",
     "text": [
      "./data/crossvalidation_data/surprise\n",
      "./data/crossvalidation_data/fear\n",
      "./data/crossvalidation_data/happy\n",
      "./data/crossvalidation_data/sadness\n",
      "./data/crossvalidation_data/disgust\n",
      "./data/crossvalidation_data/anger\n"
     ]
    }
   ],
   "source": [
    "# 表情文件训练集与交叉验证集目录\n",
    "training_data_path = './data/training_data'\n",
    "cv_data_path = './data/crossvalidation_data'\n",
    "\n",
    "# 表情种类\n",
    "emotion_classes = ['surprise', 'fear', 'happy', 'sadness', 'disgust', 'anger']\n",
    "\n",
    "# 创建TFRecordWriter\n",
    "train_writer = tf.python_io.TFRecordWriter('emotion_train.tfrecords')\n",
    "cv_writer = tf.python_io.TFRecordWriter('emotion_cv.tfrecords')\n",
    "\n",
    "for index, emotion_name in enumerate(emotion_classes):\n",
    "    train_emotion_path = training_data_path + '/' + emotion_name\n",
    "    \n",
    "    if(os.path.isdir(train_emotion_path)):\n",
    "        for img_name in os.listdir(train_emotion_path):\n",
    "            img_path = train_emotion_path + '/' + img_name\n",
    "            img = Image.open(img_path)\n",
    "            img = img.resize((32, 32))\n",
    "        \n",
    "            # 将图片转为Bytes\n",
    "            img_raw = img.tobytes()\n",
    "            example = tf.train.Example(features=tf.train.Features(feature={\n",
    "                'label': tf.train.Feature(int64_list=tf.train.Int64List(value=[index])),\n",
    "                'img_raw': tf.train.Feature(bytes_list=tf.train.BytesList(value=[img_raw]))\n",
    "            }))\n",
    "            # 序列化为字符串并写入tfrecords中\n",
    "            train_writer.write(example.SerializeToString())\n",
    "\n",
    "for index, emotion_name in enumerate(emotion_classes):\n",
    "    cv_emotion_path = cv_data_path + '/' + emotion_name\n",
    "    if(os.path.isdir(cv_emotion_path)):\n",
    "        for img_name in os.listdir(cv_emotion_path):\n",
    "            img_path = cv_emotion_path + '/' + img_name\n",
    "            img = Image.open(img_path)\n",
    "            img = img.resize((32, 32))\n",
    "        \n",
    "            img_raw = img.tobytes()\n",
    "            example = tf.train.Example(features=tf.train.Features(feature={\n",
    "                'label': tf.train.Feature(int64_list=tf.train.Int64List(value=[index])),\n",
    "                'img_raw': tf.train.Feature(bytes_list=tf.train.BytesList(value=[img_raw]))\n",
    "            }))\n",
    "\n",
    "            cv_writer.write(example.SerializeToString())\n",
    "        \n",
    "train_writer.close()\n",
    "cv_writer.close()"
   ]
  }
 ],
 "metadata": {
  "kernelspec": {
   "display_name": "Python 3",
   "language": "python",
   "name": "python3"
  },
  "language_info": {
   "codemirror_mode": {
    "name": "ipython",
    "version": 3
   },
   "file_extension": ".py",
   "mimetype": "text/x-python",
   "name": "python",
   "nbconvert_exporter": "python",
   "pygments_lexer": "ipython3",
   "version": "3.6.1"
  }
 },
 "nbformat": 4,
 "nbformat_minor": 2
}
